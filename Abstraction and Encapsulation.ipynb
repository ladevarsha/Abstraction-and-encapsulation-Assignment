{
 "cells": [
  {
   "cell_type": "code",
   "execution_count": null,
   "id": "b705eb75-bcba-454d-8889-f4ccdf949bba",
   "metadata": {},
   "outputs": [],
   "source": []
  },
  {
   "cell_type": "code",
   "execution_count": null,
   "id": "948b56b3-6508-4a85-ac76-b90f2dfaf934",
   "metadata": {},
   "outputs": [],
   "source": [
    "1.What is abstraction in OOps? Explain with an example.\n",
    "\n",
    "Ans- \n",
    "      Abstraction is a fundamental concept in Object-Oriented Programming(OOP) that refers to the process of hiding complex implementation details behind a simplified interface.\n",
    "      The idea behind abstraction is to present an object or a system in a way that focuses on what it does, rather than how it does it.\n",
    "    \n",
    "    for example - Consider a car.The user of a car inly needs to know what it does(i.e ,it is a mean of transportation), but not how it does it(i.e,the inrnal mechanics ,such as the engine,gears, and wheels)\n",
    "    The car;s abstract interface provides the necessary functions for the user to operate it(e.g. start the engine,change gears,accelerate, and brake),without exposing its complex inner workings.\n",
    "    "
   ]
  },
  {
   "cell_type": "markdown",
   "id": "4bb44921-4ed4-4377-b4e5-0f840f43eda8",
   "metadata": {},
   "source": [
    "2.Differntiate between Abstraction and Encapsulation.Explain with an example.\n",
    "\n",
    "Ans-\n",
    "     Abstraction is the process of hiding the implementation details of an object or system and presenting it to the user in a simplified way.It focuses on what the object or system does,rather than how it does it.\n",
    "     Abstraction a achieved in OOP by using abstract classes and interfaces.\n",
    "    \n",
    "    Encapsulation ,on the other hand,is the process of wrapping data and behaviour within a single unit(i.e-an object) and hiding it from the outside world.The idea behind encapsulation is to create a secure container for the data and behaviour,so that the object's internal state can be protected from unauthorized access and modification.\n",
    "    \n",
    "    For example-  Car\n",
    "               Abstraction-Presenting the car to the user in a simplified way,such as a means of transportation.The user does not need to know how the car works,just what it does.\n",
    "               Encapsulation is achieved by wrapping the internal mechanics of the car within iths physical structures.,so that the user does not have direct access to the  engine,gears, and wheels.\n",
    "               \n",
    "               In conclusion,abstraction focuses on what an object or system does,while encapsulaton focuses on how it is implemented and protected."
   ]
  },
  {
   "cell_type": "markdown",
   "id": "d1560277-48d2-4c5b-bc05-21f951b57347",
   "metadata": {},
   "source": [
    "3.What is abc module in python? Why is it used?\n",
    "\n",
    "Ans -\n",
    "        It Is \"Abstract Base Classes\"\n",
    "        It provides a way to define abstract classes in python, which are classes that cannot be instantiated on their own, but only serve as a base for other classes.\n",
    "        \n",
    "        classes that enforce certain\n",
    "        \"ABC\" module is used to define abstract classes in python\n",
    "        Python does not have native support for abstract classes.\n",
    "        We can define classes that enforce certain methods to be implemented by any        concrete class that extends the abstract class.This helps to ensure that all subclasses of the abstract class have a consistent interface,which makes it easier to write code that can work with objects of different types."
   ]
  },
  {
   "cell_type": "markdown",
   "id": "f195ffda-dd84-4bec-bfd1-d5d17fa13a48",
   "metadata": {},
   "source": [
    "4.How can we achieve data abstraction?\n",
    "\n",
    "Ans-\n",
    "     Data abstraction is technique used the implementation details of an object or system, and present only the necessary information to the user.In Object-Oriented Programming(OOP).\n",
    "     \n",
    "     1.Encapsulation - This is the process of wrapping data and behiviour within a single unit(i.e- an object) and hiding it from the outside world.The object's internal state can be protected from unauthorized aceess and modification by using access modifiers,such as \"private\" and \"protected\".\n",
    "     \n",
    "     2.Abstraction - This is the process of presenting an object or system in a way that focuses on what it does, rather than how it does it.\n",
    "     Abstraction is achieved in OOP by using abstract classes and interfaces, which define the methods that an object must implement , but do not provide any implementation.\n",
    "     \n",
    "     3.Inheritance - This is the mechanism  by which a new class can be derived from an existing class, inheriting its attributes and behaviour.The derived class can override or extend the behaviour of the base class as needed.\n",
    "     \n",
    "     By using these concepts, we can create classes that define a common interface hide  for related objects, and hide the implementation details of the object behind that interface.This allows us to write code that can work with objects of different types,without having to know the specifies of how each object is implemented.The result is code that is easier to maintain and modify as the implementation details of the objects can change without affecting the code that uses the objects."
   ]
  },
  {
   "cell_type": "code",
   "execution_count": null,
   "id": "e1f9749b-cae0-4aa4-9a47-798634f6a1dc",
   "metadata": {},
   "outputs": [],
   "source": [
    "5.Can we create an instance of abstract class? Explain Your answer.\n",
    "\n",
    "Ans-\n",
    "     No.You cannot create an instance of an abstract class in most programming languages,including python.\n",
    "    An abstract class in meant to be a blueprint for other classes,but it cannot be instatiated on its own.The ourpose of an abstract class is to define a common interface for a group of related classes,but not to be used as an object in its own right.\n",
    "    \n",
    "    for example -\n",
    "                Consider an abstract class 'shape' that defines a common interface for all shapes in a @D space.\n",
    "        The \"shape' class might have an abstract method 'area()' that calculates the area of a shape,but it wouldn't make sense to create shape.\n",
    "        subclasses of the 'shape' class such as 'circle' and 'rectangle', that implement the 'area' method and can be instantiated as objects.\n",
    "        \n",
    "        In summary, an abstract class is tool for craeting a common interface for a group related classes, but it cannot be instantiated as an object in its own right.\n",
    "        To use an abstract class, you must create a concrete sub class that implements the abstract methods defined in the base class."
   ]
  }
 ],
 "metadata": {
  "kernelspec": {
   "display_name": "Python 3 (ipykernel)",
   "language": "python",
   "name": "python3"
  },
  "language_info": {
   "codemirror_mode": {
    "name": "ipython",
    "version": 3
   },
   "file_extension": ".py",
   "mimetype": "text/x-python",
   "name": "python",
   "nbconvert_exporter": "python",
   "pygments_lexer": "ipython3",
   "version": "3.10.8"
  }
 },
 "nbformat": 4,
 "nbformat_minor": 5
}
